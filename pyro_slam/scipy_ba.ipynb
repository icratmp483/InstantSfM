{
  "cells": [
    {
      "cell_type": "code",
      "execution_count": 1,
      "metadata": {
        "id": "ihpLztADH3dO"
      },
      "outputs": [],
      "source": [
        "from __future__ import print_function"
      ]
    },
    {
      "cell_type": "code",
      "execution_count": 2,
      "metadata": {
        "id": "VPTzBwaKH8oG"
      },
      "outputs": [],
      "source": [
        "import urllib\n",
        "import bz2\n",
        "import os\n",
        "import numpy as np"
      ]
    },
    {
      "cell_type": "code",
      "execution_count": 3,
      "metadata": {
        "id": "SSCH9fJoH-Ts"
      },
      "outputs": [],
      "source": [
        "BASE_URL = \"http://grail.cs.washington.edu/projects/bal/data/ladybug/\"\n",
        "FILE_NAME = \"problem-49-7776-pre.txt.bz2\"\n",
        "URL = BASE_URL + FILE_NAME\n",
        "\n",
        "CAMERA_PARAMS = 6"
      ]
    },
    {
      "cell_type": "code",
      "execution_count": 4,
      "metadata": {
        "id": "i54IszSlIABh"
      },
      "outputs": [],
      "source": [
        "if not os.path.isfile(FILE_NAME):\n",
        "    urllib.request.urlretrieve(URL, FILE_NAME)"
      ]
    },
    {
      "cell_type": "code",
      "execution_count": 5,
      "metadata": {
        "id": "QFMSZnwbICY-"
      },
      "outputs": [],
      "source": [
        "def read_bal_data(file_name):\n",
        "    with bz2.open(file_name, \"rt\") as file:\n",
        "        n_cameras, n_points, n_observations = map(\n",
        "            int, file.readline().split())\n",
        "\n",
        "        camera_indices = np.empty(n_observations, dtype=int)\n",
        "        point_indices = np.empty(n_observations, dtype=int)\n",
        "        points_2d = np.empty((n_observations, 2))\n",
        "\n",
        "        for i in range(n_observations):\n",
        "            camera_index, point_index, x, y = file.readline().split()\n",
        "            camera_indices[i] = int(camera_index)\n",
        "            point_indices[i] = int(point_index)\n",
        "            points_2d[i] = [float(x), float(y)]\n",
        "\n",
        "        camera_params = np.empty(n_cameras * 9)\n",
        "        for i in range(n_cameras * 9):\n",
        "            camera_params[i] = float(file.readline())\n",
        "        camera_params = camera_params.reshape((n_cameras, -1))\n",
        "\n",
        "        points_3d = np.empty(n_points * 3)\n",
        "        for i in range(n_points * 3):\n",
        "            points_3d[i] = float(file.readline())\n",
        "        points_3d = points_3d.reshape((n_points, -1))\n",
        "\n",
        "    return camera_params, points_3d, camera_indices, point_indices, points_2d"
      ]
    },
    {
      "cell_type": "code",
      "execution_count": 6,
      "metadata": {
        "id": "tmF2LBxlIET9"
      },
      "outputs": [],
      "source": [
        "camera_params, points_3d, camera_indices, point_indices, points_2d = read_bal_data(FILE_NAME)"
      ]
    },
    {
      "cell_type": "code",
      "execution_count": 7,
      "metadata": {
        "colab": {
          "base_uri": "https://localhost:8080/"
        },
        "id": "r3Hbp3UgIF9L",
        "outputId": "a45f26c6-7417-45b8-eb77-fe62680bd7f1"
      },
      "outputs": [
        {
          "name": "stdout",
          "output_type": "stream",
          "text": [
            "n_cameras: 49\n",
            "n_points: 7776\n",
            "Total number of parameters: 23622\n",
            "Total number of residuals: 63686\n"
          ]
        }
      ],
      "source": [
        "n_cameras = camera_params.shape[0]\n",
        "n_points = points_3d.shape[0]\n",
        "\n",
        "n = CAMERA_PARAMS * n_cameras + 3 * n_points\n",
        "m = 2 * points_2d.shape[0]\n",
        "\n",
        "print(\"n_cameras: {}\".format(n_cameras))\n",
        "print(\"n_points: {}\".format(n_points))\n",
        "print(\"Total number of parameters: {}\".format(n))\n",
        "print(\"Total number of residuals: {}\".format(m))"
      ]
    },
    {
      "cell_type": "code",
      "execution_count": 8,
      "metadata": {},
      "outputs": [],
      "source": [
        "import torch\n",
        "\n",
        "def rotate_torch(points, rot_vecs):\n",
        "    \"\"\"Rotate points by given rotation vectors.\n",
        "\n",
        "    Rodrigues' rotation formula is used.\n",
        "    \"\"\"\n",
        "    theta = torch.norm(rot_vecs, dim=1, keepdim=True)\n",
        "    v = torch.nan_to_num(rot_vecs / theta)\n",
        "    dot = torch.sum(points * v, dim=1, keepdim=True)\n",
        "    cos_theta = torch.cos(theta)\n",
        "    sin_theta = torch.sin(theta)\n",
        "\n",
        "    return cos_theta * points + sin_theta * torch.cross(v, points, dim=1) + dot * (1 - cos_theta) * v\n",
        "\n",
        "def project_torch(points, camera_params):\n",
        "    \"\"\"Convert 3-D points to 2-D by projecting onto images.\"\"\"\n",
        "    points_proj = rotate_torch(points, camera_params[:, :3])\n",
        "    points_proj += camera_params[:, 3:6]\n",
        "    points_proj = -points_proj[:, :2] / points_proj[:, 2].unsqueeze(-1)  # add dimension for broadcasting\n",
        "    \n",
        "    f = camera_params[:, 6].unsqueeze(-1)\n",
        "    k1 = camera_params[:, 7].unsqueeze(-1)\n",
        "    k2 = camera_params[:, 8].unsqueeze(-1)\n",
        "    n = torch.sum(points_proj**2, axis=1, keepdim=True)\n",
        "    r = 1 + k1 * n + k2 * n**2\n",
        "    points_proj *= r * f  # broadcasting will take care of the shape\n",
        "\n",
        "    return points_proj"
      ]
    },
    {
      "cell_type": "code",
      "execution_count": 9,
      "metadata": {
        "id": "E4L2Y4ruIH8d"
      },
      "outputs": [],
      "source": [
        "from numpy import linalg as LA\n",
        "\n",
        "def rotate(points, rot_vecs):\n",
        "    \"\"\"Rotate points by given rotation vectors.\n",
        "\n",
        "    Rodrigues' rotation formula is used.\n",
        "    \"\"\"\n",
        "    # theta = np.linalg.norm(rot_vecs, axis=1)[:, np.newaxis]\n",
        "    # with np.errstate(invalid='ignore'):\n",
        "    #     v = rot_vecs / theta\n",
        "    #     v = np.nan_to_num(v)\n",
        "    # dot = np.sum(points * v, axis=1)[:, np.newaxis]\n",
        "    # cos_theta = np.cos(theta)\n",
        "    # sin_theta = np.sin(theta)\n",
        "\n",
        "    # return cos_theta * points + sin_theta * np.cross(v, points) + dot * (1 - cos_theta) * v\n",
        "    points = torch.from_numpy(points)\n",
        "    rot_vecs = torch.from_numpy(rot_vecs)\n",
        "    res = rotate_torch(points, rot_vecs)\n",
        "    return res.numpy()\n",
        "\n",
        "def project(points, camera_params):\n",
        "    \"\"\"Convert 3-D points to 2-D by projecting onto images.\"\"\"\n",
        "    # points_proj = rotate(points, camera_params[:, :3])\n",
        "    # points_proj += camera_params[:, 3:6]\n",
        "    # points_proj = -points_proj[:, :2] / points_proj[:, 2, np.newaxis]\n",
        "    # f = camera_params[:, 6]\n",
        "    # k1 = camera_params[:, 7]\n",
        "    # k2 = camera_params[:, 8]\n",
        "    # n = np.sum(points_proj**2, axis=1)\n",
        "    # r = 1 + k1 * n + k2 * n**2\n",
        "    # points_proj *= (r * f)[:, np.newaxis]\n",
        "    # return points_proj\n",
        "    points = torch.from_numpy(points)\n",
        "    camera_params = torch.from_numpy(camera_params)\n",
        "    res = project_torch(points, camera_params)\n",
        "    return res.numpy()\n",
        "\n",
        "def fun(params, n_cameras, n_points, camera_indices, point_indices, points_2d, intr=None):\n",
        "    \"\"\"Compute residuals.\n",
        "\n",
        "    `params` contains camera parameters and 3-D coordinates.\n",
        "    \"\"\"\n",
        "    camera_params = params[:n_cameras * CAMERA_PARAMS].reshape((n_cameras, CAMERA_PARAMS))\n",
        "    if intr is not None:\n",
        "        camera_params = np.concatenate([camera_params, intr], axis=1)\n",
        "    points_3d = params[n_cameras * CAMERA_PARAMS:].reshape((n_points, 3))\n",
        "    points_proj = project(points_3d[point_indices], camera_params[camera_indices])\n",
        "    #return LA.norm((points_proj - points_2d), axis=-1)\n",
        "    return (points_proj - points_2d).ravel()"
      ]
    },
    {
      "cell_type": "code",
      "execution_count": 10,
      "metadata": {
        "id": "TchzYmy6IJ-F"
      },
      "outputs": [],
      "source": [
        "from scipy.sparse import lil_matrix\n",
        "\n",
        "def bundle_adjustment_sparsity(n_cameras, n_points, camera_indices, point_indices):\n",
        "    m = camera_indices.size * 2\n",
        "    n = n_cameras * CAMERA_PARAMS + n_points * 3\n",
        "    A = lil_matrix((m, n), dtype=int)\n",
        "\n",
        "    i = np.arange(camera_indices.size)\n",
        "    for s in range(CAMERA_PARAMS):\n",
        "        A[2 * i, camera_indices * CAMERA_PARAMS + s] = 1\n",
        "        A[2 * i + 1, camera_indices * CAMERA_PARAMS + s] = 1\n",
        "\n",
        "    for s in range(3):\n",
        "        A[2 * i, n_cameras * CAMERA_PARAMS + point_indices * 3 + s] = 1\n",
        "        A[2 * i + 1, n_cameras * CAMERA_PARAMS + point_indices * 3 + s] = 1\n",
        "\n",
        "    return A"
      ]
    },
    {
      "cell_type": "code",
      "execution_count": 11,
      "metadata": {
        "colab": {
          "base_uri": "https://localhost:8080/",
          "height": 447
        },
        "id": "1m0_geUnIRus",
        "outputId": "b9501bd7-3d96-4472-c2ca-566ed2934640"
      },
      "outputs": [
        {
          "data": {
            "text/plain": [
              "[<matplotlib.lines.Line2D at 0x7f924537f250>]"
            ]
          },
          "execution_count": 11,
          "metadata": {},
          "output_type": "execute_result"
        },
        {
          "data": {
            "image/png": "[encoded data removed]",
            "text/plain": [
              "<Figure size 640x480 with 1 Axes>"
            ]
          },
          "metadata": {},
          "output_type": "display_data"
        }
      ],
      "source": [
        "import matplotlib.pyplot as plt\n",
        "\n",
        "if CAMERA_PARAMS == 6:\n",
        "    x0 = np.hstack((camera_params[..., :CAMERA_PARAMS].ravel(), points_3d.ravel()))\n",
        "    rest_of_params = camera_params[..., CAMERA_PARAMS:]\n",
        "else:\n",
        "    x0 = np.hstack((camera_params.ravel(), points_3d.ravel()))\n",
        "    rest_of_params = None\n",
        "f0 = fun(x0, n_cameras, n_points, camera_indices, point_indices, points_2d, intr=rest_of_params)\n",
        "\n",
        "plt.plot(f0)"
      ]
    },
    {
      "cell_type": "code",
      "execution_count": 12,
      "metadata": {
        "colab": {
          "base_uri": "https://localhost:8080/"
        },
        "id": "Q__bQ2SJITkn",
        "outputId": "95e0d7b6-2b43-4b0c-98cd-641479c1153b"
      },
      "outputs": [
        {
          "data": {
            "text/plain": [
              "(63686,)"
            ]
          },
          "execution_count": 12,
          "metadata": {},
          "output_type": "execute_result"
        }
      ],
      "source": [
        "f0.shape"
      ]
    },
    {
      "cell_type": "code",
      "execution_count": 13,
      "metadata": {
        "colab": {
          "base_uri": "https://localhost:8080/"
        },
        "id": "E058NVK7IbQm",
        "outputId": "198edbb9-f429-4d31-e38a-4bc1bdf3336e"
      },
      "outputs": [
        {
          "data": {
            "text/plain": [
              "850912.4606808405"
            ]
          },
          "execution_count": 13,
          "metadata": {},
          "output_type": "execute_result"
        }
      ],
      "source": [
        "np.sum((f0**2))/2"
      ]
    },
    {
      "cell_type": "code",
      "execution_count": 14,
      "metadata": {
        "colab": {
          "base_uri": "https://localhost:8080/"
        },
        "id": "9CuR4ABKKspZ",
        "outputId": "9dde2687-d722-4810-9b61-60db594b8d32"
      },
      "outputs": [
        {
          "name": "stdout",
          "output_type": "stream",
          "text": [
            "   Iteration     Total nfev        Cost      Cost reduction    Step norm     Optimality   \n",
            "       0              1         8.5091e+05                                    4.52e+06    \n",
            "       1              2         7.7687e+04      7.73e+05       7.58e+02       6.99e+05    \n",
            "       2              3         2.4685e+04      5.30e+04       1.85e+03       1.25e+05    \n",
            "       3              4         1.7320e+04      7.36e+03       1.77e+02       2.07e+04    \n",
            "       4              5         1.6729e+04      5.91e+02       2.87e+02       1.08e+04    \n",
            "       5              6         1.6556e+04      1.73e+02       8.28e+00       2.47e+02    \n",
            "       6              7         1.6556e+04      1.64e-01       5.31e+00       1.10e+03    \n",
            "`ftol` termination condition is satisfied.\n",
            "Function evaluations 7, initial cost 8.5091e+05, final cost 1.6556e+04, first-order optimality 1.10e+03.\n"
          ]
        }
      ],
      "source": [
        "import time\n",
        "from scipy.optimize import least_squares\n",
        "\n",
        "A = bundle_adjustment_sparsity(n_cameras, n_points, camera_indices, point_indices)\n",
        "\n",
        "t0 = time.time()\n",
        "res = least_squares(fun, x0, jac_sparsity=A, verbose=2, x_scale='jac', ftol=1e-4, method='trf',args=(n_cameras, n_points, camera_indices, point_indices, points_2d), kwargs={'intr':rest_of_params})\n",
        "t1 = time.time()"
      ]
    },
    {
      "cell_type": "code",
      "execution_count": 15,
      "metadata": {
        "colab": {
          "base_uri": "https://localhost:8080/"
        },
        "id": "ZeKjtqGXhLaY",
        "outputId": "51cdb01b-43ce-43e8-c1e7-591e23d8d090"
      },
      "outputs": [
        {
          "ename": "IndexError",
          "evalue": "index 6 is out of bounds for dimension 1 with size 6",
          "output_type": "error",
          "traceback": [
            "\u001b[0;31m---------------------------------------------------------------------------\u001b[0m",
            "\u001b[0;31mIndexError\u001b[0m                                Traceback (most recent call last)",
            "Cell \u001b[0;32mIn[15], line 1\u001b[0m\n\u001b[0;32m----> 1\u001b[0m f1 \u001b[38;5;241m=\u001b[39m \u001b[43mfun\u001b[49m\u001b[43m(\u001b[49m\u001b[43mres\u001b[49m\u001b[38;5;241;43m.\u001b[39;49m\u001b[43mx\u001b[49m\u001b[43m,\u001b[49m\u001b[43m \u001b[49m\u001b[43mn_cameras\u001b[49m\u001b[43m,\u001b[49m\u001b[43m \u001b[49m\u001b[43mn_points\u001b[49m\u001b[43m,\u001b[49m\u001b[43m \u001b[49m\u001b[43mcamera_indices\u001b[49m\u001b[43m,\u001b[49m\u001b[43m \u001b[49m\u001b[43mpoint_indices\u001b[49m\u001b[43m,\u001b[49m\u001b[43m \u001b[49m\u001b[43mpoints_2d\u001b[49m\u001b[43m)\u001b[49m\n\u001b[1;32m      2\u001b[0m np\u001b[38;5;241m.\u001b[39msum((f1\u001b[38;5;241m*\u001b[39m\u001b[38;5;241m*\u001b[39m\u001b[38;5;241m2\u001b[39m))\u001b[38;5;241m/\u001b[39m\u001b[38;5;241m2\u001b[39m\n",
            "Cell \u001b[0;32mIn[9], line 48\u001b[0m, in \u001b[0;36mfun\u001b[0;34m(params, n_cameras, n_points, camera_indices, point_indices, points_2d, intr)\u001b[0m\n\u001b[1;32m     46\u001b[0m     camera_params \u001b[38;5;241m=\u001b[39m np\u001b[38;5;241m.\u001b[39mconcatenate([camera_params, intr], axis\u001b[38;5;241m=\u001b[39m\u001b[38;5;241m1\u001b[39m)\n\u001b[1;32m     47\u001b[0m points_3d \u001b[38;5;241m=\u001b[39m params[n_cameras \u001b[38;5;241m*\u001b[39m CAMERA_PARAMS:]\u001b[38;5;241m.\u001b[39mreshape((n_points, \u001b[38;5;241m3\u001b[39m))\n\u001b[0;32m---> 48\u001b[0m points_proj \u001b[38;5;241m=\u001b[39m \u001b[43mproject\u001b[49m\u001b[43m(\u001b[49m\u001b[43mpoints_3d\u001b[49m\u001b[43m[\u001b[49m\u001b[43mpoint_indices\u001b[49m\u001b[43m]\u001b[49m\u001b[43m,\u001b[49m\u001b[43m \u001b[49m\u001b[43mcamera_params\u001b[49m\u001b[43m[\u001b[49m\u001b[43mcamera_indices\u001b[49m\u001b[43m]\u001b[49m\u001b[43m)\u001b[49m\n\u001b[1;32m     49\u001b[0m \u001b[38;5;66;03m#return LA.norm((points_proj - points_2d), axis=-1)\u001b[39;00m\n\u001b[1;32m     50\u001b[0m \u001b[38;5;28;01mreturn\u001b[39;00m (points_proj \u001b[38;5;241m-\u001b[39m points_2d)\u001b[38;5;241m.\u001b[39mravel()\n",
            "Cell \u001b[0;32mIn[9], line 36\u001b[0m, in \u001b[0;36mproject\u001b[0;34m(points, camera_params)\u001b[0m\n\u001b[1;32m     34\u001b[0m points \u001b[38;5;241m=\u001b[39m torch\u001b[38;5;241m.\u001b[39mfrom_numpy(points)\n\u001b[1;32m     35\u001b[0m camera_params \u001b[38;5;241m=\u001b[39m torch\u001b[38;5;241m.\u001b[39mfrom_numpy(camera_params)\n\u001b[0;32m---> 36\u001b[0m res \u001b[38;5;241m=\u001b[39m \u001b[43mproject_torch\u001b[49m\u001b[43m(\u001b[49m\u001b[43mpoints\u001b[49m\u001b[43m,\u001b[49m\u001b[43m \u001b[49m\u001b[43mcamera_params\u001b[49m\u001b[43m)\u001b[49m\n\u001b[1;32m     37\u001b[0m \u001b[38;5;28;01mreturn\u001b[39;00m res\u001b[38;5;241m.\u001b[39mnumpy()\n",
            "Cell \u001b[0;32mIn[8], line 22\u001b[0m, in \u001b[0;36mproject_torch\u001b[0;34m(points, camera_params)\u001b[0m\n\u001b[1;32m     19\u001b[0m points_proj \u001b[38;5;241m+\u001b[39m\u001b[38;5;241m=\u001b[39m camera_params[:, \u001b[38;5;241m3\u001b[39m:\u001b[38;5;241m6\u001b[39m]\n\u001b[1;32m     20\u001b[0m points_proj \u001b[38;5;241m=\u001b[39m \u001b[38;5;241m-\u001b[39mpoints_proj[:, :\u001b[38;5;241m2\u001b[39m] \u001b[38;5;241m/\u001b[39m points_proj[:, \u001b[38;5;241m2\u001b[39m]\u001b[38;5;241m.\u001b[39munsqueeze(\u001b[38;5;241m-\u001b[39m\u001b[38;5;241m1\u001b[39m)  \u001b[38;5;66;03m# add dimension for broadcasting\u001b[39;00m\n\u001b[0;32m---> 22\u001b[0m f \u001b[38;5;241m=\u001b[39m \u001b[43mcamera_params\u001b[49m\u001b[43m[\u001b[49m\u001b[43m:\u001b[49m\u001b[43m,\u001b[49m\u001b[43m \u001b[49m\u001b[38;5;241;43m6\u001b[39;49m\u001b[43m]\u001b[49m\u001b[38;5;241m.\u001b[39munsqueeze(\u001b[38;5;241m-\u001b[39m\u001b[38;5;241m1\u001b[39m)\n\u001b[1;32m     23\u001b[0m k1 \u001b[38;5;241m=\u001b[39m camera_params[:, \u001b[38;5;241m7\u001b[39m]\u001b[38;5;241m.\u001b[39munsqueeze(\u001b[38;5;241m-\u001b[39m\u001b[38;5;241m1\u001b[39m)\n\u001b[1;32m     24\u001b[0m k2 \u001b[38;5;241m=\u001b[39m camera_params[:, \u001b[38;5;241m8\u001b[39m]\u001b[38;5;241m.\u001b[39munsqueeze(\u001b[38;5;241m-\u001b[39m\u001b[38;5;241m1\u001b[39m)\n",
            "\u001b[0;31mIndexError\u001b[0m: index 6 is out of bounds for dimension 1 with size 6"
          ]
        }
      ],
      "source": [
        "f1 = fun(res.x, n_cameras, n_points, camera_indices, point_indices, points_2d)\n",
        "np.sum((f1**2))/2"
      ]
    },
    {
      "cell_type": "code",
      "execution_count": null,
      "metadata": {
        "id": "hHkTWNZYLAGc"
      },
      "outputs": [],
      "source": [
        "def reprojerr(params, n_cameras, n_points, camera_indices, point_indices, points_2d):\n",
        "    \"\"\"Compute residuals.\n",
        "\n",
        "    `params` contains camera parameters and 3-D coordinates.\n",
        "    \"\"\"\n",
        "    camera_params = params[:n_cameras * 9].reshape((n_cameras, 9))\n",
        "    points_3d = params[n_cameras * 9:].reshape((n_points, 3))\n",
        "    points_proj = project(points_3d[point_indices], camera_params[camera_indices])\n",
        "    return LA.norm((points_proj - points_2d), axis=-1).sum()"
      ]
    },
    {
      "cell_type": "code",
      "execution_count": null,
      "metadata": {
        "colab": {
          "base_uri": "https://localhost:8080/"
        },
        "id": "6e3ylgX6NZw6",
        "outputId": "fb5fc858-884c-4bf6-e984-74b4341be7e6"
      },
      "outputs": [
        {
          "data": {
            "text/plain": [
              "134013.25637740275"
            ]
          },
          "execution_count": 32,
          "metadata": {},
          "output_type": "execute_result"
        }
      ],
      "source": [
        "initial = reprojerr(x0, n_cameras, n_points, camera_indices, point_indices, points_2d)\n",
        "initial"
      ]
    },
    {
      "cell_type": "code",
      "execution_count": null,
      "metadata": {
        "colab": {
          "base_uri": "https://localhost:8080/"
        },
        "id": "7avGKhhJMXCQ",
        "outputId": "212a8317-85dc-4bed-ae83-c4dded9c0597"
      },
      "outputs": [
        {
          "data": {
            "text/plain": [
              "18510.198321420467"
            ]
          },
          "execution_count": 33,
          "metadata": {},
          "output_type": "execute_result"
        }
      ],
      "source": [
        "final = reprojerr(res.x, n_cameras, n_points, camera_indices, point_indices, points_2d)\n",
        "final"
      ]
    },
    {
      "cell_type": "code",
      "execution_count": null,
      "metadata": {
        "id": "mfjxSaFUNkOZ"
      },
      "outputs": [],
      "source": []
    }
  ],
  "metadata": {
    "colab": {
      "provenance": []
    },
    "kernelspec": {
      "display_name": "Python 3",
      "name": "python3"
    },
    "language_info": {
      "codemirror_mode": {
        "name": "ipython",
        "version": 3
      },
      "file_extension": ".py",
      "mimetype": "text/x-python",
      "name": "python",
      "nbconvert_exporter": "python",
      "pygments_lexer": "ipython3",
      "version": "3.10.13"
    }
  },
  "nbformat": 4,
  "nbformat_minor": 0
}
